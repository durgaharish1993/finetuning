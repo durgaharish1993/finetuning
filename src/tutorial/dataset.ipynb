{
 "cells": [
  {
   "cell_type": "code",
   "execution_count": 2,
   "metadata": {},
   "outputs": [],
   "source": [
    "from datasets import load_dataset"
   ]
  },
  {
   "cell_type": "code",
   "execution_count": null,
   "metadata": {},
   "outputs": [
    {
     "data": {
      "application/vnd.jupyter.widget-view+json": {
       "model_id": "cb588bdcaab2488980823cfcd193b357",
       "version_major": 2,
       "version_minor": 0
      },
      "text/plain": [
       "README.md:   0%|          | 0.00/7.81k [00:00<?, ?B/s]"
      ]
     },
     "metadata": {},
     "output_type": "display_data"
    },
    {
     "data": {
      "application/vnd.jupyter.widget-view+json": {
       "model_id": "f28f1f8eb1c6474ebc6c7d1dead40f81",
       "version_major": 2,
       "version_minor": 0
      },
      "text/plain": [
       "train-00000-of-00001.parquet:   0%|          | 0.00/21.0M [00:00<?, ?B/s]"
      ]
     },
     "metadata": {},
     "output_type": "display_data"
    },
    {
     "data": {
      "application/vnd.jupyter.widget-view+json": {
       "model_id": "35d20a83449c41e985de754ca2492655",
       "version_major": 2,
       "version_minor": 0
      },
      "text/plain": [
       "test-00000-of-00001.parquet:   0%|          | 0.00/20.5M [00:00<?, ?B/s]"
      ]
     },
     "metadata": {},
     "output_type": "display_data"
    },
    {
     "data": {
      "application/vnd.jupyter.widget-view+json": {
       "model_id": "63ac3a8ba26946e1b69d53d1f0d64e84",
       "version_major": 2,
       "version_minor": 0
      },
      "text/plain": [
       "unsupervised-00000-of-00001.parquet:   0%|          | 0.00/42.0M [00:00<?, ?B/s]"
      ]
     },
     "metadata": {},
     "output_type": "display_data"
    },
    {
     "data": {
      "application/vnd.jupyter.widget-view+json": {
       "model_id": "109e567b5d3f4132b74aad6c1dabb490",
       "version_major": 2,
       "version_minor": 0
      },
      "text/plain": [
       "Generating train split:   0%|          | 0/25000 [00:00<?, ? examples/s]"
      ]
     },
     "metadata": {},
     "output_type": "display_data"
    },
    {
     "data": {
      "application/vnd.jupyter.widget-view+json": {
       "model_id": "7a508919a1144ce8baa0c58994f9c5a3",
       "version_major": 2,
       "version_minor": 0
      },
      "text/plain": [
       "Generating test split:   0%|          | 0/25000 [00:00<?, ? examples/s]"
      ]
     },
     "metadata": {},
     "output_type": "display_data"
    },
    {
     "data": {
      "application/vnd.jupyter.widget-view+json": {
       "model_id": "cf6c7567e52a40ab8e8684edc47b1ebf",
       "version_major": 2,
       "version_minor": 0
      },
      "text/plain": [
       "Generating unsupervised split:   0%|          | 0/50000 [00:00<?, ? examples/s]"
      ]
     },
     "metadata": {},
     "output_type": "display_data"
    }
   ],
   "source": [
    "dataset = load_dataset(\"imdb\")\n",
    "\n",
    "ds = load_dataset(\"open-web-math/open-web-math\")\n"
   ]
  },
  {
   "cell_type": "code",
   "execution_count": null,
   "metadata": {},
   "outputs": [],
   "source": []
  },
  {
   "cell_type": "code",
   "execution_count": null,
   "metadata": {},
   "outputs": [
    {
     "data": {
      "text/plain": [
       "datasets.dataset_dict.DatasetDict"
      ]
     },
     "execution_count": 55,
     "metadata": {},
     "output_type": "execute_result"
    }
   ],
   "source": [
    "from datasets import load_dataset\n",
    "\n",
    "# Load only a specific split (e.g., \"train\")\n",
    "dataset = load_dataset(\"dataset_name\", split=\"train[:5%]\")  # Load the first 5% of the training set\n"
   ]
  },
  {
   "cell_type": "code",
   "execution_count": 16,
   "metadata": {},
   "outputs": [
    {
     "name": "stdout",
     "output_type": "stream",
     "text": [
      "25000\n"
     ]
    }
   ],
   "source": [
    "print(dataset[\"train\"].num_rows)"
   ]
  },
  {
   "cell_type": "code",
   "execution_count": 17,
   "metadata": {},
   "outputs": [],
   "source": [
    "train_data = dataset[\"train\"]"
   ]
  },
  {
   "cell_type": "code",
   "execution_count": 29,
   "metadata": {},
   "outputs": [
    {
     "data": {
      "text/plain": [
       "{'text': \"S.S. Van Dine must have been a shrewd businessman in dealing with Hollywood. Most of the film series' from the studio days were usually confined to one or two studios. But apparently Van Dine must have sold his rights to each book about Philo Vance one at a time. Note that Paramount, MGM, Warner Brothers, and more all released Philo Vance films. Only Tarzan seemed to get around Hollywood more.<br /><br />MGM produced the Garden Murder Case and starred Edmund Lowe as the fashionable detective. Of course MGM had the screen's original Philo under contract at the time, but Bill Powell was busy doing The Thin Man at the time and I guess Louis B. Mayer decided to concentrate him there.<br /><br />Edmund Lowe is a pretty acceptable Philo Vance. Lowe had started out pretty big at the tail end of the silent era with What Price Glory and then with a string of films with Victor McLaglen with their Flagg and Quirt characters. But after McLaglen got his Oscar for The Informer, Lowe seemed to fade into the B picture market. <br /><br />The Garden Murder Case involves three separate victims, Douglas Walton, Gene Lockhart, and Frieda Inescourt. The sinister atmosphere around the perpetrator kind of gives it away, the mystery is really how all the killings are connected and how they are accomplished.<br /><br />I will say this though. Vance takes a very big chance in exposing the villain and the last 15 minutes are worthy of Hitchcock.\",\n",
       " 'label': 1}"
      ]
     },
     "execution_count": 29,
     "metadata": {},
     "output_type": "execute_result"
    }
   ],
   "source": [
    "import torch\n",
    "\n",
    "\n",
    "train_data[24000]"
   ]
  },
  {
   "cell_type": "code",
   "execution_count": 49,
   "metadata": {},
   "outputs": [
    {
     "data": {
      "text/html": [
       "<div>\n",
       "<style scoped>\n",
       "    .dataframe tbody tr th:only-of-type {\n",
       "        vertical-align: middle;\n",
       "    }\n",
       "\n",
       "    .dataframe tbody tr th {\n",
       "        vertical-align: top;\n",
       "    }\n",
       "\n",
       "    .dataframe thead th {\n",
       "        text-align: right;\n",
       "    }\n",
       "</style>\n",
       "<table border=\"1\" class=\"dataframe\">\n",
       "  <thead>\n",
       "    <tr style=\"text-align: right;\">\n",
       "      <th></th>\n",
       "      <th>text</th>\n",
       "      <th>label</th>\n",
       "    </tr>\n",
       "  </thead>\n",
       "  <tbody>\n",
       "    <tr>\n",
       "      <th>0</th>\n",
       "      <td>I rented I AM CURIOUS-YELLOW from my video sto...</td>\n",
       "      <td>0</td>\n",
       "    </tr>\n",
       "    <tr>\n",
       "      <th>1</th>\n",
       "      <td>\"I Am Curious: Yellow\" is a risible and preten...</td>\n",
       "      <td>0</td>\n",
       "    </tr>\n",
       "    <tr>\n",
       "      <th>2</th>\n",
       "      <td>If only to avoid making this type of film in t...</td>\n",
       "      <td>0</td>\n",
       "    </tr>\n",
       "    <tr>\n",
       "      <th>3</th>\n",
       "      <td>This film was probably inspired by Godard's Ma...</td>\n",
       "      <td>0</td>\n",
       "    </tr>\n",
       "    <tr>\n",
       "      <th>4</th>\n",
       "      <td>Oh, brother...after hearing about this ridicul...</td>\n",
       "      <td>0</td>\n",
       "    </tr>\n",
       "    <tr>\n",
       "      <th>...</th>\n",
       "      <td>...</td>\n",
       "      <td>...</td>\n",
       "    </tr>\n",
       "    <tr>\n",
       "      <th>24995</th>\n",
       "      <td>A hit at the time but now better categorised a...</td>\n",
       "      <td>1</td>\n",
       "    </tr>\n",
       "    <tr>\n",
       "      <th>24996</th>\n",
       "      <td>I love this movie like no other. Another time ...</td>\n",
       "      <td>1</td>\n",
       "    </tr>\n",
       "    <tr>\n",
       "      <th>24997</th>\n",
       "      <td>This film and it's sequel Barry Mckenzie holds...</td>\n",
       "      <td>1</td>\n",
       "    </tr>\n",
       "    <tr>\n",
       "      <th>24998</th>\n",
       "      <td>'The Adventures Of Barry McKenzie' started lif...</td>\n",
       "      <td>1</td>\n",
       "    </tr>\n",
       "    <tr>\n",
       "      <th>24999</th>\n",
       "      <td>The story centers around Barry McKenzie who mu...</td>\n",
       "      <td>1</td>\n",
       "    </tr>\n",
       "  </tbody>\n",
       "</table>\n",
       "<p>25000 rows × 2 columns</p>\n",
       "</div>"
      ],
      "text/plain": [
       "                                                    text  label\n",
       "0      I rented I AM CURIOUS-YELLOW from my video sto...      0\n",
       "1      \"I Am Curious: Yellow\" is a risible and preten...      0\n",
       "2      If only to avoid making this type of film in t...      0\n",
       "3      This film was probably inspired by Godard's Ma...      0\n",
       "4      Oh, brother...after hearing about this ridicul...      0\n",
       "...                                                  ...    ...\n",
       "24995  A hit at the time but now better categorised a...      1\n",
       "24996  I love this movie like no other. Another time ...      1\n",
       "24997  This film and it's sequel Barry Mckenzie holds...      1\n",
       "24998  'The Adventures Of Barry McKenzie' started lif...      1\n",
       "24999  The story centers around Barry McKenzie who mu...      1\n",
       "\n",
       "[25000 rows x 2 columns]"
      ]
     },
     "execution_count": 49,
     "metadata": {},
     "output_type": "execute_result"
    }
   ],
   "source": [
    "import pandas as pd\n",
    "\n",
    "train_df = pd.DataFrame(dataset[\"train\"])\n",
    "test_df = pd.DataFrame(dataset[\"test\"])\n",
    "\n",
    "train_df"
   ]
  },
  {
   "cell_type": "code",
   "execution_count": 37,
   "metadata": {},
   "outputs": [
    {
     "name": "stdout",
     "output_type": "stream",
     "text": [
      "Label Distribution: Counter({0: 12500, 1: 12500})\n"
     ]
    }
   ],
   "source": [
    "from collections import Counter\n",
    "\n",
    "# Count label distribution in the train split\n",
    "label_counts = Counter(train_data[\"label\"])\n",
    "print(f\"Label Distribution: {label_counts}\")\n"
   ]
  },
  {
   "cell_type": "code",
   "execution_count": 39,
   "metadata": {},
   "outputs": [
    {
     "data": {
      "image/png": "[encoded data removed]",
      "text/plain": [
       "<Figure size 640x480 with 1 Axes>"
      ]
     },
     "metadata": {},
     "output_type": "display_data"
    }
   ],
   "source": [
    "import matplotlib.pyplot as plt\n",
    "\n",
    "# Plot label distribution\n",
    "labels = [\"Negative\", \"Positive\"]\n",
    "counts = [label_counts[0], label_counts[1]]\n",
    "\n",
    "plt.bar(labels, counts)\n",
    "plt.title(\"Label Distribution in Train Data\")\n",
    "plt.xlabel(\"Sentiment\")\n",
    "plt.ylabel(\"Count\")\n",
    "plt.show()\n"
   ]
  },
  {
   "cell_type": "code",
   "execution_count": 40,
   "metadata": {},
   "outputs": [
    {
     "name": "stdout",
     "output_type": "stream",
     "text": [
      "Average review length: 233.79 words\n",
      "Max review length: 2470 words\n",
      "Min review length: 10 words\n"
     ]
    }
   ],
   "source": [
    "# Compute lengths of reviews\n",
    "text_lengths = [len(text.split()) for text in train_data[\"text\"]]\n",
    "\n",
    "# Summary statistics\n",
    "print(f\"Average review length: {sum(text_lengths) / len(text_lengths):.2f} words\")\n",
    "print(f\"Max review length: {max(text_lengths)} words\")\n",
    "print(f\"Min review length: {min(text_lengths)} words\")\n"
   ]
  },
  {
   "cell_type": "code",
   "execution_count": 41,
   "metadata": {},
   "outputs": [
    {
     "data": {
      "image/png": "[encoded data removed]",
      "text/plain": [
       "<Figure size 640x480 with 1 Axes>"
      ]
     },
     "metadata": {},
     "output_type": "display_data"
    }
   ],
   "source": [
    "# Plot histogram of text lengths\n",
    "plt.hist(text_lengths, bins=50, color='skyblue', edgecolor='black')\n",
    "plt.title(\"Distribution of Review Lengths\")\n",
    "plt.xlabel(\"Number of Words\")\n",
    "plt.ylabel(\"Frequency\")\n",
    "plt.show()\n"
   ]
  },
  {
   "cell_type": "code",
   "execution_count": 43,
   "metadata": {},
   "outputs": [
    {
     "name": "stdout",
     "output_type": "stream",
     "text": [
      "[('the', 336749), ('and', 164140), ('a', 163123), ('of', 145864), ('to', 135724), ('is', 107332), ('br', 101871), ('it', 96467), ('in', 93976), ('i', 87690), ('this', 76007), ('that', 73286), ('s', 63602), ('was', 48209), ('as', 46935), ('for', 44345), ('with', 44130), ('movie', 44047), ('but', 42623), ('film', 40159)]\n"
     ]
    }
   ],
   "source": [
    "from collections import Counter\n",
    "import re\n",
    "\n",
    "# Tokenize text\n",
    "all_words = []\n",
    "for text in train_data[\"text\"]:\n",
    "    all_words.extend(re.findall(r'\\w+', text.lower()))\n",
    "\n",
    "# Count word frequencies\n",
    "word_counts = Counter(all_words)\n",
    "print(word_counts.most_common(20))\n"
   ]
  },
  {
   "cell_type": "code",
   "execution_count": 44,
   "metadata": {},
   "outputs": [
    {
     "data": {
      "image/png": "[encoded data removed]",
      "text/plain": [
       "<Figure size 640x480 with 1 Axes>"
      ]
     },
     "metadata": {},
     "output_type": "display_data"
    }
   ],
   "source": [
    "# Top 10 words\n",
    "top_words = word_counts.most_common(10)\n",
    "words, counts = zip(*top_words)\n",
    "\n",
    "# Plot\n",
    "plt.bar(words, counts)\n",
    "plt.title(\"Top 10 Most Frequent Words\")\n",
    "plt.xlabel(\"Words\")\n",
    "plt.ylabel(\"Frequency\")\n",
    "plt.xticks(rotation=45)\n",
    "plt.show()\n"
   ]
  },
  {
   "cell_type": "code",
   "execution_count": 45,
   "metadata": {},
   "outputs": [],
   "source": [
    "positive_words = []\n",
    "negative_words = []\n",
    "\n",
    "for text, label in zip(train_data[\"text\"], train_data[\"label\"]):\n",
    "    tokens = re.findall(r'\\w+', text.lower())\n",
    "    if label == 1:  # Positive\n",
    "        positive_words.extend(tokens)\n",
    "    else:  # Negative\n",
    "        negative_words.extend(tokens)\n",
    "\n",
    "positive_word_counts = Counter(positive_words)\n",
    "negative_word_counts = Counter(negative_words)\n",
    "\n"
   ]
  },
  {
   "cell_type": "code",
   "execution_count": 46,
   "metadata": {},
   "outputs": [
    {
     "name": "stdout",
     "output_type": "stream",
     "text": [
      "Positive Sentiment Words: [('the', 173344), ('and', 89747), ('a', 83723), ('of', 76855), ('to', 66749), ('is', 57247), ('in', 50221), ('br', 49235), ('it', 48074), ('i', 40774)]\n",
      "Negative Sentiment Words: [('the', 163405), ('a', 79400), ('and', 74393), ('of', 69009), ('to', 68975), ('br', 52636), ('is', 50085), ('it', 48393), ('i', 46916), ('in', 43755)]\n"
     ]
    }
   ],
   "source": [
    "\n",
    "# Top 10 words for each sentiment\n",
    "print(\"Positive Sentiment Words:\", positive_word_counts.most_common(10))\n",
    "print(\"Negative Sentiment Words:\", negative_word_counts.most_common(10))\n"
   ]
  },
  {
   "cell_type": "code",
   "execution_count": 47,
   "metadata": {},
   "outputs": [
    {
     "name": "stdout",
     "output_type": "stream",
     "text": [
      "Average length of positive reviews: 236.71 words\n",
      "Average length of negative reviews: 230.87 words\n"
     ]
    }
   ],
   "source": [
    "# Compute average review length by sentiment\n",
    "positive_lengths = [len(text.split()) for text, label in zip(train_data[\"text\"], train_data[\"label\"]) if label == 1]\n",
    "negative_lengths = [len(text.split()) for text, label in zip(train_data[\"text\"], train_data[\"label\"]) if label == 0]\n",
    "\n",
    "print(f\"Average length of positive reviews: {sum(positive_lengths) / len(positive_lengths):.2f} words\")\n",
    "print(f\"Average length of negative reviews: {sum(negative_lengths) / len(negative_lengths):.2f} words\")\n"
   ]
  },
  {
   "cell_type": "code",
   "execution_count": 48,
   "metadata": {},
   "outputs": [
    {
     "name": "stdout",
     "output_type": "stream",
     "text": [
      "['i rented i am curiousyellow from my video store because of all the controversy that surrounded it when it was first released in 1967 i also heard that at first it was seized by us customs if it ever tried to enter this country therefore being a fan of films considered controversial i really had to see this for myselfbr br the plot is centered around a young swedish drama student named lena who wants to learn everything she can about life in particular she wants to focus her attentions to making some sort of documentary on what the average swede thought about certain political issues such as the vietnam war and race issues in the united states in between asking politicians and ordinary denizens of stockholm about their opinions on politics she has sex with her drama teacher classmates and married menbr br what kills me about i am curiousyellow is that 40 years ago this was considered pornographic really the sex and nudity scenes are few and far between even then its not shot like some cheaply made porno while my countrymen mind find it shocking in reality sex and nudity are a major staple in swedish cinema even ingmar bergman arguably their answer to good old boy john ford had sex scenes in his filmsbr br i do commend the filmmakers for the fact that any sex shown in the film is shown for artistic purposes rather than just to shock people and make money to be shown in pornographic theaters in america i am curiousyellow is a good film for anyone wanting to study the meat and potatoes no pun intended of swedish cinema but really this film doesnt have much of a plot', 'i am curious yellow is a risible and pretentious steaming pile it doesnt matter what ones political views are because this film can hardly be taken seriously on any level as for the claim that frontal male nudity is an automatic nc17 that isnt true ive seen rrated films with male nudity granted they only offer some fleeting views but where are the rrated films with gaping vulvas and flapping labia nowhere because they dont exist the same goes for those crappy cable shows schlongs swinging in the breeze but not a clitoris in sight and those pretentious indie movies like the brown bunny in which were treated to the site of vincent gallos throbbing johnson but not a trace of pink visible on chloe sevigny before crying or implying doublestandard in matters of nudity the mentally obtuse should take into account one unavoidably obvious anatomical difference between men and women there are no genitals on display when actresses appears nude and the same cannot be said for a man in fact you generally wont see female genitals in an american film in anything short of porn or explicit erotica this alleged doublestandard is less a double standard than an admittedly depressing ability to come to terms culturally with the insides of womens bodies', 'if only to avoid making this type of film in the future this film is interesting as an experiment but tells no cogent storybr br one might feel virtuous for sitting thru it because it touches on so many important issues but it does so without any discernable motive the viewer comes away with no new perspectives unless one comes up with one while ones mind wanders as it will invariably do during this pointless filmbr br one might better spend ones time staring out a window at a tree growingbr br ', 'this film was probably inspired by godards masculin fminin and i urge you to see that film insteadbr br the film has two strong elements and those are 1 the realistic acting 2 the impressive undeservedly good photo apart from that what strikes me most is the endless stream of silliness lena nyman has to be most annoying actress in the world she acts so stupid and with all the nudity in this filmits unattractive comparing to godards film intellectuality has been replaced with stupidity without going too far on this subject i would say that follows from the difference in ideals between the french and the swedish societybr br a movie of its time and place 210', 'oh brotherafter hearing about this ridiculous film for umpteen years all i can think of is that old peggy lee songbr br is that all there is i was just an early teen when this smoked fish hit the us i was too young to get in the theater although i did manage to sneak into goodbye columbus then a screening at a local film museum beckoned  finally i could see this film except now i was as old as my parents were when they schlepped to see itbr br the only reason this film was not condemned to the anonymous sands of time was because of the obscenity case sparked by its us release millions of people flocked to this stinker thinking they were going to see a sex filminstead they got lots of closeups of gnarly repulsive swedes onstreet interviews in bland shopping malls asinie political pretensionand feeble whocares simulated sex scenes with saggy pale actorsbr br cultural icon holy grail historic artifactwhatever this thing was shred it burn it then stuff the ashes in a lead boxbr br elite esthetes still scrape to find value in its boring pseudo revolutionary political spewingsbut if it werent for the censorship scandal it would have been ignored then forgottenbr br instead the i am blank blank rhythymed title was repeated endlessly for years as a titilation for porno films i am curious lavender  for gay films i am curious black  for blaxploitation films etc and every ten years or so the thing rises from the dead to be viewed by a new generation of suckers who want to see that naughty sex film that revolutionized the film industrybr br yeesh avoid like the plagueor if you must see it  rent the video and fast forward to the dirty parts just to get it over withbr br ']\n"
     ]
    }
   ],
   "source": [
    "def preprocess_text(text):\n",
    "    text = text.lower()\n",
    "    text = re.sub(r'[^a-z0-9\\s]', '', text)  # Remove special characters\n",
    "    return text\n",
    "\n",
    "cleaned_texts = [preprocess_text(text) for text in train_data[\"text\"]]\n",
    "print(cleaned_texts[:5])\n",
    "\n"
   ]
  },
  {
   "cell_type": "code",
   "execution_count": null,
   "metadata": {},
   "outputs": [],
   "source": []
  }
 ],
 "metadata": {
  "kernelspec": {
   "display_name": ".venv",
   "language": "python",
   "name": "python3"
  },
  "language_info": {
   "codemirror_mode": {
    "name": "ipython",
    "version": 3
   },
   "file_extension": ".py",
   "mimetype": "text/x-python",
   "name": "python",
   "nbconvert_exporter": "python",
   "pygments_lexer": "ipython3",
   "version": "3.10.12"
  }
 },
 "nbformat": 4,
 "nbformat_minor": 2
}
